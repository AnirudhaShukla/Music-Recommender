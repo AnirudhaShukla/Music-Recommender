{
 "cells": [
  {
   "cell_type": "code",
   "execution_count": null,
   "id": "5a231a12",
   "metadata": {},
   "outputs": [],
   "source": [
    "#importing libraries\n",
    "from deepface import DeepFace\n",
    "import cv2\n",
    "import matplotlib.pyplot as plt\n",
    "import pandas as pd\n",
    "import random\n",
    "import speedtest\n",
    "from tkinter import *\n",
    "import glob\n",
    "import pygame"
   ]
  },
  {
   "cell_type": "code",
   "execution_count": null,
   "id": "19a45c38",
   "metadata": {},
   "outputs": [],
   "source": [
    "#opens camera, reads and captures a frame for mood prediction\n",
    "video = cv2.VideoCapture(0)\n",
    "check,frame=video.read()"
   ]
  },
  {
   "cell_type": "code",
   "execution_count": null,
   "id": "41c86dd1",
   "metadata": {
    "scrolled": true
   },
   "outputs": [],
   "source": [
    "#plotting the captured image from the camera \n",
    "plt.imshow(frame[:,:,::-1])\n",
    "plt.show()"
   ]
  },
  {
   "cell_type": "code",
   "execution_count": null,
   "id": "b6f59a9d",
   "metadata": {
    "scrolled": false
   },
   "outputs": [],
   "source": [
    "#predicts mood/emotion\n",
    "result = DeepFace.analyze(frame,actions = ['emotion'])"
   ]
  },
  {
   "cell_type": "code",
   "execution_count": null,
   "id": "896a240a",
   "metadata": {
    "scrolled": false
   },
   "outputs": [],
   "source": [
    "#prints the dominant emotion\n",
    "print(result)"
   ]
  },
  {
   "cell_type": "code",
   "execution_count": null,
   "id": "aecfcbc6",
   "metadata": {},
   "outputs": [],
   "source": [
    "#destroys the video capture object\n",
    "video.release()"
   ]
  },
  {
   "cell_type": "code",
   "execution_count": null,
   "id": "d879e73e",
   "metadata": {
    "scrolled": true
   },
   "outputs": [],
   "source": [
    "#predicting mood\n",
    "values=result.items()\n",
    "l=list(values)\n",
    "val=l[-2][1]\n",
    "print(val)\n"
   ]
  },
  {
   "cell_type": "code",
   "execution_count": null,
   "id": "773a3a7c",
   "metadata": {},
   "outputs": [],
   "source": [
    "#loading dataset for \n",
    "df1 = pd.read_table(\"C:\\\\Users\\ACER\\\\Desktop\\\\emotions\\\\happy.txt\")\n",
    "df2 = pd.read_table(\"C:\\\\Users\\\\ACER\\\\Desktop\\\\emotions\\\\sad.txt\")\n",
    "df3 = pd.read_table(\"C:\\\\Users\\\\ACER\\\\Desktop\\\\\\emotions\\\\surprise.txt\")\n",
    "df4 = pd.read_table(\"C:\\\\Users\\\\ACER\\\\Desktop\\\\\\emotions\\\\fear.txt\")\n",
    "df5 = pd.read_table(\"C:\\\\Users\\\\ACER\\\\Desktop\\\\\\emotions\\\\angry.txt\")\n",
    "df6 = pd.read_table(\"C:\\\\Users\\\\ACER\\\\Desktop\\\\\\emotions\\\\neutral.txt\")\n",
    "df7 = pd.read_table(\"C:\\\\Users\\\\ACER\\\\Desktop\\\\\\emotions\\\\disgust.txt\")"
   ]
  },
  {
   "cell_type": "code",
   "execution_count": null,
   "id": "88a0ed7b",
   "metadata": {},
   "outputs": [],
   "source": [
    "#getting user's Net Download Speed\n",
    "print(\"calculating download speed...\")\n",
    "test = speedtest.Speedtest()\n",
    "down = test.download()\n",
    "download = down/1024/1024/10\n",
    "format_float = \"{:.2f}\".format(download)\n",
    "print(\"download speed:\",format_float,\"Mb\")"
   ]
  },
  {
   "cell_type": "code",
   "execution_count": null,
   "id": "114f5f3b",
   "metadata": {},
   "outputs": [],
   "source": [
    "#playing a random song according to the mood in music player\n",
    "def musicplay():\n",
    "        #making a music player\n",
    "    def music(path2):\n",
    "        root = Tk()\n",
    "        root.title(\"Music\")\n",
    "        #root.iconbitmap(\"C:\\\\Users\\\\ACER\\\\Desktop\\\\1646519505549.jfif\")\n",
    "        root.geometry(\"500x400\")\n",
    "        pygame.mixer.init()\n",
    "        def play():\n",
    "            pygame.mixer.music.load(path2)\n",
    "            pygame.mixer.music.play(loops=0)\n",
    "        def stop():\n",
    "            pygame.mixer.music.stop()\n",
    "\n",
    "        button = Button(root, text=\"play\", font=(\"helvetica,32\"),command=play)   \n",
    "        button.pack(pady=20)\n",
    "\n",
    "        stop_button = Button(root,text=\"stop\",command=stop)\n",
    "        stop_button.pack(pady=20)\n",
    "        root.mainloop()\n",
    "        \n",
    "    path = glob.glob(\"C:\\\\Users\\\\ACER\\\\Desktop\\\\song\\\\*mp3\")\n",
    "    \n",
    "#playing music as per download speed    \n",
    "    if(download>0 and download<=0.5):\n",
    "        path2 = random.choice(path)\n",
    "        st=str(path2)\n",
    "        print(\"playing for you:\")\n",
    "        for i in range(27,len(st)-4):\n",
    "            print(st[i],end=\"\")\n",
    "        music(path2)\n",
    "    elif(download>0.5 and download<1):\n",
    "        path2 = random.choice(path)\n",
    "        st=str(path2)\n",
    "        print(\"playing for you:\")\n",
    "        for i in range(27,len(st)-4):\n",
    "            print(st[i],end=\"\")\n",
    "        music(path2)\n",
    "    elif(download>1):\n",
    "        path2 = random.choice(path)\n",
    "        st=str(path2)\n",
    "        print(\"playing for you:\")\n",
    "        for i in range(27,len(st)-4):\n",
    "            print(st[i],end=\"\")\n",
    "        music(path2)"
   ]
  },
  {
   "cell_type": "code",
   "execution_count": null,
   "id": "5514917e",
   "metadata": {
    "scrolled": true
   },
   "outputs": [],
   "source": [
    "#suggesting and playing music\n",
    "print(\"SUGGESTED TOP 5 SONGS: \\n\")\n",
    "if(val=='happy'):\n",
    "    for i in range(0,5):\n",
    "        print(df1.iloc[random.randrange(0,len(df1))])\n",
    "    df1.head()\n",
    "    print(\"\\n\")\n",
    "    print(\"PLAYING A SONG ACCORDING TO THE MOOD: \",val,\"\\n\")\n",
    "    musicplay()\n",
    "elif(val=='sad'):\n",
    "    for i in range(0,5):\n",
    "        print(df2.iloc[random.randrange(0,len(df2))])   \n",
    "    df2.head()\n",
    "    print(\"\\n\")\n",
    "    print(\"PLAYING A SONG ACCORDING TO THE MOOD: \",val,\"\\n\")\n",
    "    musicplay()\n",
    "elif(val=='surprise'):\n",
    "    for i in range(0,5):\n",
    "        print(df3.iloc[random.randrange(0,len(df3))]) \n",
    "    df3.head()\n",
    "    print(\"\\n\")\n",
    "    print(\"PLAYING A SONG ACCORDING TO THE MOOD: \",val,\"\\n\")\n",
    "    musicplay()\n",
    "elif(val=='fear'):\n",
    "    for i in range(0,5):\n",
    "        print(df4.iloc[random.randrange(0,len(df4))])\n",
    "    df4.head()\n",
    "    print(\"\\n\")\n",
    "    print(\"PLAYING A SONG ACCORDING TO THE MOOD: \",val,\"\\n\")\n",
    "    musicplay()\n",
    "elif(val=='angry'):\n",
    "    for i in range(0,5):\n",
    "        print(df5.iloc[random.randrange(0,len(df5))])\n",
    "    df5.head()\n",
    "    print(\"\\n\")\n",
    "    print(\"PLAYING A SONG ACCORDING TO THE MOOD: \",val,\"\\n\")\n",
    "    musicplay()\n",
    "elif(val=='neutral'):\n",
    "    for i in range(0,5):\n",
    "        print(df6.iloc[random.randrange(0,len(df6))])\n",
    "    df6.head()\n",
    "    print(\"\\n\")\n",
    "    print(\"PLAYING A SONG ACCORDING TO THE MOOD: \",val,\"\\n\")\n",
    "    musicplay()\n",
    "elif(val=='disgust'):\n",
    "    for i in range(0,5):\n",
    "        print(df7.iloc[random.randrange(0,len(df7))])  \n",
    "    df7.head()\n",
    "    print(\"\\n\")\n",
    "    print(\"PLAYING A SONG ACCORDING TO THE MOOD: \",val,\"\\n\")\n",
    "    musicplay()"
   ]
  },
  {
   "cell_type": "code",
   "execution_count": null,
   "id": "5c26c879",
   "metadata": {},
   "outputs": [],
   "source": [
    "    "
   ]
  }
 ],
 "metadata": {
  "kernelspec": {
   "display_name": "Python 3 (ipykernel)",
   "language": "python",
   "name": "python3"
  },
  "language_info": {
   "codemirror_mode": {
    "name": "ipython",
    "version": 3
   },
   "file_extension": ".py",
   "mimetype": "text/x-python",
   "name": "python",
   "nbconvert_exporter": "python",
   "pygments_lexer": "ipython3",
   "version": "3.9.12"
  }
 },
 "nbformat": 4,
 "nbformat_minor": 5
}
